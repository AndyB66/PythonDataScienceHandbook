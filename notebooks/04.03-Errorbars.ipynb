{
  "cells": [
    {
      "cell_type": "markdown",
      "metadata": {
        "id": "_nEqjjriLB7s"
      },
      "source": [
        "<!--BOOK_INFORMATION-->\n",
        "<img align=\"left\" style=\"padding-right:10px;\" src=\"https://github.com/jakevdp/PythonDataScienceHandbook/blob/master/notebooks/figures/PDSH-cover-small.png?raw=1\">\n",
        "\n",
        "*This notebook contains an excerpt from the [Python Data Science Handbook](http://shop.oreilly.com/product/0636920034919.do) by Jake VanderPlas; the content is available [on GitHub](https://github.com/jakevdp/PythonDataScienceHandbook).*\n",
        "\n",
        "*The text is released under the [CC-BY-NC-ND license](https://creativecommons.org/licenses/by-nc-nd/3.0/us/legalcode), and code is released under the [MIT license](https://opensource.org/licenses/MIT). If you find this content useful, please consider supporting the work by [buying the book](http://shop.oreilly.com/product/0636920034919.do)!*"
      ]
    },
    {
      "cell_type": "markdown",
      "metadata": {
        "id": "FPSzQf_KLB7z"
      },
      "source": [
        "<!--NAVIGATION-->\n",
        "< [Simple Scatter Plots](04.02-Simple-Scatter-Plots.ipynb) | [Contents](Index.ipynb) | [Density and Contour Plots](04.04-Density-and-Contour-Plots.ipynb) >\n",
        "\n",
        "<a href=\"https://colab.research.google.com/github/jakevdp/PythonDataScienceHandbook/blob/master/notebooks/04.03-Errorbars.ipynb\"><img align=\"left\" src=\"https://colab.research.google.com/assets/colab-badge.svg\" alt=\"Open in Colab\" title=\"Open and Execute in Google Colaboratory\"></a>\n"
      ]
    },
    {
      "cell_type": "markdown",
      "metadata": {
        "id": "ACtO5XksLB70"
      },
      "source": [
        "# Visualizing Errors"
      ]
    },
    {
      "cell_type": "markdown",
      "metadata": {
        "id": "_p6j1qD8LB71"
      },
      "source": [
        "For any scientific measurement, accurate accounting for errors is nearly as important, if not more important, than accurate reporting of the number itself.\n",
        "For example, imagine that I am using some astrophysical observations to estimate the Hubble Constant, the local measurement of the expansion rate of the Universe.\n",
        "I know that the current literature suggests a value of around 71 (km/s)/Mpc, and I measure a value of 74 (km/s)/Mpc with my method. Are the values consistent? The only correct answer, given this information, is this: there is no way to know.\n",
        "\n",
        "Suppose I augment this information with reported uncertainties: the current literature suggests a value of around 71 $\\pm$ 2.5 (km/s)/Mpc, and my method has measured a value of 74 $\\pm$ 5 (km/s)/Mpc. Now are the values consistent? That is a question that can be quantitatively answered.\n",
        "\n",
        "In visualization of data and results, showing these errors effectively can make a plot convey much more complete information."
      ]
    },
    {
      "cell_type": "markdown",
      "metadata": {
        "id": "wrRouhNaLB72"
      },
      "source": [
        "## Basic Errorbars\n",
        "\n",
        "A basic errorbar can be created with a single Matplotlib function call:"
      ]
    },
    {
      "cell_type": "code",
      "execution_count": 1,
      "metadata": {
        "collapsed": true,
        "id": "Kj1NslcOLB73"
      },
      "outputs": [],
      "source": [
        "%matplotlib inline\n",
        "import matplotlib.pyplot as plt\n",
        "plt.style.use('seaborn-whitegrid')\n",
        "import numpy as np"
      ]
    },
    {
      "cell_type": "code",
      "execution_count": 2,
      "metadata": {
        "id": "3_3Gs1CXLB74",
        "outputId": "698715f9-c901-4568-ae9f-014d21b5d056",
        "colab": {
          "base_uri": "https://localhost:8080/",
          "height": 262
        }
      },
      "outputs": [
        {
          "output_type": "display_data",
          "data": {
            "image/png": "[encoded data removed]",
            "text/plain": [
              "<Figure size 432x288 with 1 Axes>"
            ]
          },
          "metadata": {
            "needs_background": "light"
          }
        }
      ],
      "source": [
        "x = np.linspace(0, 10, 50)\n",
        "dy = 0.8\n",
        "y = np.sin(x) + dy * np.random.randn(50)\n",
        "\n",
        "plt.errorbar(x, y, yerr=dy, fmt='.k');"
      ]
    },
    {
      "cell_type": "markdown",
      "metadata": {
        "id": "mvHLOsdHLB76"
      },
      "source": [
        "Here the ``fmt`` is a format code controlling the appearance of lines and points, and has the same syntax as the shorthand used in ``plt.plot``, outlined in [Simple Line Plots](04.01-Simple-Line-Plots.ipynb) and [Simple Scatter Plots](04.02-Simple-Scatter-Plots.ipynb).\n",
        "\n",
        "In addition to these basic options, the ``errorbar`` function has many options to fine-tune the outputs.\n",
        "Using these additional options you can easily customize the aesthetics of your errorbar plot.\n",
        "I often find it helpful, especially in crowded plots, to make the errorbars lighter than the points themselves:"
      ]
    },
    {
      "cell_type": "code",
      "execution_count": 3,
      "metadata": {
        "id": "JyWg1fpKLB77",
        "outputId": "a79a929d-209d-43b4-f0f0-30fef33882ee",
        "colab": {
          "base_uri": "https://localhost:8080/",
          "height": 262
        }
      },
      "outputs": [
        {
          "output_type": "display_data",
          "data": {
            "image/png": "[encoded data removed]",
            "text/plain": [
              "<Figure size 432x288 with 1 Axes>"
            ]
          },
          "metadata": {
            "needs_background": "light"
          }
        }
      ],
      "source": [
        "plt.errorbar(x, y, yerr=dy, fmt='o', color='black',\n",
        "             ecolor='lightgray', elinewidth=3, capsize=0);"
      ]
    },
    {
      "cell_type": "markdown",
      "metadata": {
        "id": "RsPWvcAgLB78"
      },
      "source": [
        "In addition to these options, you can also specify horizontal errorbars (``xerr``), one-sided errorbars, and many other variants.\n",
        "For more information on the options available, refer to the docstring of ``plt.errorbar``."
      ]
    },
    {
      "cell_type": "markdown",
      "metadata": {
        "id": "is9SwjP4LB78"
      },
      "source": [
        "## Continuous Errors\n",
        "\n",
        "In some situations it is desirable to show errorbars on continuous quantities.\n",
        "Though Matplotlib does not have a built-in convenience routine for this type of application, it's relatively easy to combine primitives like ``plt.plot`` and ``plt.fill_between`` for a useful result.\n",
        "\n",
        "Here we'll perform a simple *Gaussian process regression*, using the Scikit-Learn API (see [Introducing Scikit-Learn](05.02-Introducing-Scikit-Learn.ipynb) for details).\n",
        "This is a method of fitting a very flexible non-parametric function to data with a continuous measure of the uncertainty.\n",
        "We won't delve into the details of Gaussian process regression at this point, but will focus instead on how you might visualize such a continuous error measurement:"
      ]
    },
    {
      "cell_type": "code",
      "execution_count": 5,
      "metadata": {
        "id": "VgNqXm0CLB79"
      },
      "outputs": [],
      "source": [
        "from sklearn.gaussian_process import GaussianProcessRegressor\n",
        "from sklearn.gaussian_process.kernels import RBF\n",
        "\n",
        "# define the kernel\n",
        "kernel = 1 * RBF(length_scale=1.0, length_scale_bounds=(1e-2, 1e2))\n",
        "\n",
        "# define the model and draw some data\n",
        "model = lambda x: x * np.sin(x)\n",
        "xdata = np.array([1, 3, 5, 6, 8])\n",
        "ydata = model(xdata)\n",
        "\n",
        "# Compute the Gaussian process fit\n",
        "gp = GaussianProcessRegressor(kernel=kernel, n_restarts_optimizer=9)\n",
        "gp.fit(xdata[:, np.newaxis], ydata)\n",
        "\n",
        "xfit = np.linspace(0, 10, 1000)\n",
        "yfit, MSE = gp.predict(xfit[:, np.newaxis], return_std=True)\n",
        "dyfit = 2 * np.sqrt(MSE)  # 2*sigma ~ 95% confidence region"
      ]
    },
    {
      "cell_type": "markdown",
      "metadata": {
        "id": "dy5gSUvELB7-"
      },
      "source": [
        "We now have ``xfit``, ``yfit``, and ``dyfit``, which sample the continuous fit to our data.\n",
        "We could pass these to the ``plt.errorbar`` function as above, but we don't really want to plot 1,000 points with 1,000 errorbars.\n",
        "Instead, we can use the ``plt.fill_between`` function with a light color to visualize this continuous error:"
      ]
    },
    {
      "cell_type": "code",
      "execution_count": 6,
      "metadata": {
        "id": "nuW3-M0PLB7-",
        "outputId": "50bdef09-852b-4ed0-e5ab-108b5acbf8a7",
        "colab": {
          "base_uri": "https://localhost:8080/",
          "height": 262
        }
      },
      "outputs": [
        {
          "output_type": "display_data",
          "data": {
            "image/png": "[encoded data removed]",
            "text/plain": [
              "<Figure size 432x288 with 1 Axes>"
            ]
          },
          "metadata": {
            "needs_background": "light"
          }
        }
      ],
      "source": [
        "# Visualize the result\n",
        "plt.plot(xdata, ydata, 'or')\n",
        "plt.plot(xfit, yfit, '-', color='gray')\n",
        "\n",
        "plt.fill_between(xfit, yfit - dyfit, yfit + dyfit,\n",
        "                 color='gray', alpha=0.2)\n",
        "plt.xlim(0, 10);"
      ]
    },
    {
      "cell_type": "markdown",
      "metadata": {
        "id": "zv7lKKwkLB7_"
      },
      "source": [
        "Note what we've done here with the ``fill_between`` function: we pass an x value, then the lower y-bound, then the upper y-bound, and the result is that the area between these regions is filled.\n",
        "\n",
        "The resulting figure gives a very intuitive view into what the Gaussian process regression algorithm is doing: in regions near a measured data point, the model is strongly constrained and this is reflected in the small model errors.\n",
        "In regions far from a measured data point, the model is not strongly constrained, and the model errors increase.\n",
        "\n",
        "For more information on the options available in ``plt.fill_between()`` (and the closely related ``plt.fill()`` function), see the function docstring or the Matplotlib documentation.\n",
        "\n",
        "Finally, if this seems a bit too low level for your taste, refer to [Visualization With Seaborn](04.14-Visualization-With-Seaborn.ipynb), where we discuss the Seaborn package, which has a more streamlined API for visualizing this type of continuous errorbar."
      ]
    },
    {
      "cell_type": "markdown",
      "metadata": {
        "id": "RX56GcT1LB7_"
      },
      "source": [
        "<!--NAVIGATION-->\n",
        "< [Simple Scatter Plots](04.02-Simple-Scatter-Plots.ipynb) | [Contents](Index.ipynb) | [Density and Contour Plots](04.04-Density-and-Contour-Plots.ipynb) >\n",
        "\n",
        "<a href=\"https://colab.research.google.com/github/jakevdp/PythonDataScienceHandbook/blob/master/notebooks/04.03-Errorbars.ipynb\"><img align=\"left\" src=\"https://colab.research.google.com/assets/colab-badge.svg\" alt=\"Open in Colab\" title=\"Open and Execute in Google Colaboratory\"></a>\n"
      ]
    }
  ],
  "metadata": {
    "anaconda-cloud": {},
    "kernelspec": {
      "display_name": "Python 3",
      "language": "python",
      "name": "python3"
    },
    "language_info": {
      "codemirror_mode": {
        "name": "ipython",
        "version": 3
      },
      "file_extension": ".py",
      "mimetype": "text/x-python",
      "name": "python",
      "nbconvert_exporter": "python",
      "pygments_lexer": "ipython3",
      "version": "3.5.1"
    },
    "colab": {
      "name": "04.03-Errorbars.ipynb",
      "provenance": []
    }
  },
  "nbformat": 4,
  "nbformat_minor": 0
}